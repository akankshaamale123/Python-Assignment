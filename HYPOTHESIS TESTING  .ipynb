{
 "cells": [
  {
   "cell_type": "code",
   "execution_count": 11,
   "id": "1eea525a-c35c-403f-a835-8cf693249433",
   "metadata": {},
   "outputs": [],
   "source": [
    "import pandas as pd\n",
    "import numpy as np\n",
    "from scipy import stats\n",
    "from math import sqrt\n"
   ]
  },
  {
   "cell_type": "code",
   "execution_count": null,
   "id": "8ae14404-1df9-4e96-bb18-4c8652a2842d",
   "metadata": {},
   "outputs": [],
   "source": [
    "# Given data\n",
    " x = 600\n",
    " sample mean = 3050\n",
    " population_mean = 1000 + 5*600 #(x=600 units) #hypothesis population mean\n",
    " standard deviation = 5*25\n",
    " sample size = 25\n",
    " Using the alpha level of 5% (α = 0.05) #level of significance"
   ]
  },
  {
   "cell_type": "code",
   "execution_count": 15,
   "id": "2fa3c9cd-30c5-4bb2-8d89-c494602e20a8",
   "metadata": {},
   "outputs": [
    {
     "name": "stdout",
     "output_type": "stream",
     "text": [
      "population mean =  4000\n",
      "standard Deviation =  125\n"
     ]
    }
   ],
   "source": [
    "alpha = 0.05\n",
    "population_mean = 1000 + 5*600\n",
    "print(\"population mean = \",population_mean) \n",
    "\n",
    "standard_deviation = 5*25\n",
    "print(\"standard Deviation = \",standard_deviation)"
   ]
  },
  {
   "cell_type": "code",
   "execution_count": 12,
   "id": "c9b1a534-71b0-47ba-9b9b-8f8f7ab9c476",
   "metadata": {},
   "outputs": [
    {
     "data": {
      "text/plain": [
       "-38.0"
      ]
     },
     "execution_count": 12,
     "metadata": {},
     "output_type": "execute_result"
    }
   ],
   "source": [
    "# step1 calculate the Z-TEST\n",
    "\n",
    "z_stat = (3050-4000) / (125/sqrt(25))\n",
    "z_stat"
   ]
  },
  {
   "cell_type": "code",
   "execution_count": 14,
   "id": "391d909d-a011-452a-85e3-2e3a5f2cf5e8",
   "metadata": {},
   "outputs": [
    {
     "data": {
      "text/plain": [
       "np.float64(1.0)"
      ]
     },
     "execution_count": 14,
     "metadata": {},
     "output_type": "execute_result"
    }
   ],
   "source": [
    "# step 2 : calculate the p-value\n",
    "\n",
    "p_value = 1 - stats.norm.cdf(z_stat) \n",
    "p_value"
   ]
  },
  {
   "cell_type": "code",
   "execution_count": 21,
   "id": "b20ec77f-0b39-47a8-a9c5-84decd5c1e80",
   "metadata": {},
   "outputs": [],
   "source": [
    "# step 3 : decision\n",
    "if p_value < alpha:\n",
    "    conclusion = \"Reject the null hypothesis: Costs are significantly higher.\"\n",
    "else:\n",
    "    conclusion = \"Fail to reject null hypothesis : No evidence that costs are higher.\""
   ]
  },
  {
   "cell_type": "code",
   "execution_count": 22,
   "id": "a8a914d9-4997-47f0-8ffa-060071095083",
   "metadata": {},
   "outputs": [
    {
     "name": "stdout",
     "output_type": "stream",
     "text": [
      "Z-statistic : -38.00\n",
      "P-value : 1.0\n",
      "Conclusion : Fail to reject null hypothesis : No evidence that costs are higher.\n"
     ]
    }
   ],
   "source": [
    "#output \n",
    "print(f'Z-statistic : {z_stat:.2f}')\n",
    "print(f\"P-value : {p_value}\")\n",
    "print(f\"Conclusion : {conclusion}\")"
   ]
  }
 ],
 "metadata": {
  "kernelspec": {
   "display_name": "Python 3 (ipykernel)",
   "language": "python",
   "name": "python3"
  },
  "language_info": {
   "codemirror_mode": {
    "name": "ipython",
    "version": 3
   },
   "file_extension": ".py",
   "mimetype": "text/x-python",
   "name": "python",
   "nbconvert_exporter": "python",
   "pygments_lexer": "ipython3",
   "version": "3.12.5"
  },
  "widgets": {
   "application/vnd.jupyter.widget-state+json": {
    "state": {},
    "version_major": 2,
    "version_minor": 0
   }
  }
 },
 "nbformat": 4,
 "nbformat_minor": 5
}
