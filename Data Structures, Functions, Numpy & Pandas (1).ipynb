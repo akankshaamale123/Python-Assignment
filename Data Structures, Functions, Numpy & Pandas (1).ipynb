{
 "cells": [
  {
   "cell_type": "code",
   "execution_count": 1,
   "id": "5d39c392-ea84-4931-8fad-4e96658c84c1",
   "metadata": {},
   "outputs": [
    {
     "data": {
      "text/plain": [
       "[22, 44, 33, 11, 77]"
      ]
     },
     "execution_count": 1,
     "metadata": {},
     "output_type": "execute_result"
    }
   ],
   "source": [
    "\"\"\" Section A \"\"\"\n",
    "#list\n",
    "\n",
    "list1 = [22,44,33,11,77]\n",
    "list1"
   ]
  },
  {
   "cell_type": "code",
   "execution_count": 2,
   "id": "43f7fd37-d4ec-447e-a21d-44bf1a3120e0",
   "metadata": {},
   "outputs": [
    {
     "data": {
      "text/plain": [
       "[22, 44, 33, 11, 77, 81]"
      ]
     },
     "execution_count": 2,
     "metadata": {},
     "output_type": "execute_result"
    }
   ],
   "source": [
    "list1.append(81)\n",
    "list1"
   ]
  },
  {
   "cell_type": "code",
   "execution_count": 7,
   "id": "3dfe951f-3958-4ada-8810-78f4a2001756",
   "metadata": {},
   "outputs": [],
   "source": [
    "list2 = ['Akanksha','Tom']"
   ]
  },
  {
   "cell_type": "code",
   "execution_count": 8,
   "id": "7dc76208-e1f3-4db6-a0a0-4511eb57e5dd",
   "metadata": {},
   "outputs": [
    {
     "data": {
      "text/plain": [
       "[22, 44, 33, 11, 77, 81, 'Akanksha', 'Tom']"
      ]
     },
     "execution_count": 8,
     "metadata": {},
     "output_type": "execute_result"
    }
   ],
   "source": [
    "list1.extend(list2)\n",
    "list1"
   ]
  },
  {
   "cell_type": "code",
   "execution_count": 15,
   "id": "17c7b592-6162-4101-a9b6-88f059d6dc94",
   "metadata": {},
   "outputs": [
    {
     "data": {
      "text/plain": [
       "[22, 44, 12, 12, 12, 11, 77, 81, 'Akanksha', 'Tom']"
      ]
     },
     "execution_count": 15,
     "metadata": {},
     "output_type": "execute_result"
    }
   ],
   "source": [
    "list1.insert(2,12)\n",
    "list1"
   ]
  },
  {
   "cell_type": "code",
   "execution_count": 14,
   "id": "911486c3-5445-404d-ad60-50ff12782f48",
   "metadata": {},
   "outputs": [
    {
     "data": {
      "text/plain": [
       "[22, 44, 12, 12, 11, 77, 81, 'Akanksha', 'Tom']"
      ]
     },
     "execution_count": 14,
     "metadata": {},
     "output_type": "execute_result"
    }
   ],
   "source": [
    "list1.remove(33)\n",
    "list1"
   ]
  },
  {
   "cell_type": "code",
   "execution_count": 16,
   "id": "4c50b03b-0516-40e6-baf5-712f728e7641",
   "metadata": {},
   "outputs": [
    {
     "data": {
      "text/plain": [
       "[22, 44, 12, 12, 12, 11, 77, 81, 'Akanksha']"
      ]
     },
     "execution_count": 16,
     "metadata": {},
     "output_type": "execute_result"
    }
   ],
   "source": [
    "list1.pop()\n",
    "list1"
   ]
  },
  {
   "cell_type": "code",
   "execution_count": 22,
   "id": "b701ddea-d2e1-49a2-95b9-e8e82b7fcedb",
   "metadata": {},
   "outputs": [
    {
     "data": {
      "text/plain": [
       "0"
      ]
     },
     "execution_count": 22,
     "metadata": {},
     "output_type": "execute_result"
    }
   ],
   "source": [
    "list1.index(22)\n"
   ]
  },
  {
   "cell_type": "code",
   "execution_count": 21,
   "id": "dfa67b8b-c5e9-4897-8dc1-556eb505194b",
   "metadata": {},
   "outputs": [
    {
     "data": {
      "text/plain": [
       "3"
      ]
     },
     "execution_count": 21,
     "metadata": {},
     "output_type": "execute_result"
    }
   ],
   "source": [
    "list1.count(12)"
   ]
  },
  {
   "cell_type": "code",
   "execution_count": 24,
   "id": "cf02f393-a435-4bed-a120-3621612db6bd",
   "metadata": {},
   "outputs": [
    {
     "data": {
      "text/plain": [
       "[]"
      ]
     },
     "execution_count": 24,
     "metadata": {},
     "output_type": "execute_result"
    }
   ],
   "source": [
    "list1.clear()\n",
    "list1"
   ]
  },
  {
   "cell_type": "code",
   "execution_count": 26,
   "id": "bcc6c187-2f3d-49a0-83e3-a631fc7d9760",
   "metadata": {},
   "outputs": [
    {
     "data": {
      "text/plain": [
       "['Akanksha', 'Ganesh', 'Gaurang', 'pratiksha']"
      ]
     },
     "execution_count": 26,
     "metadata": {},
     "output_type": "execute_result"
    }
   ],
   "source": [
    "list3 = ['Gaurang','Akanksha',\"pratiksha\",'Ganesh']\n",
    "list3.sort()\n",
    "list3"
   ]
  },
  {
   "cell_type": "code",
   "execution_count": 27,
   "id": "4979a2da-29f2-4f76-8fa0-bed37c1407ce",
   "metadata": {},
   "outputs": [
    {
     "data": {
      "text/plain": [
       "['pratiksha', 'Gaurang', 'Ganesh', 'Akanksha']"
      ]
     },
     "execution_count": 27,
     "metadata": {},
     "output_type": "execute_result"
    }
   ],
   "source": [
    "list3.reverse()\n",
    "list3"
   ]
  },
  {
   "cell_type": "code",
   "execution_count": 28,
   "id": "e34a7979-9521-439e-bf4b-15120a26f839",
   "metadata": {},
   "outputs": [
    {
     "data": {
      "text/plain": [
       "('tom', 'som', 'piyush')"
      ]
     },
     "execution_count": 28,
     "metadata": {},
     "output_type": "execute_result"
    }
   ],
   "source": [
    "# Tuple\n",
    "tuple1 = (\"tom\",\"som\",\"piyush\")\n",
    "tuple1"
   ]
  },
  {
   "cell_type": "code",
   "execution_count": 30,
   "id": "20ac8035-1688-4a61-9679-56b59033fe28",
   "metadata": {},
   "outputs": [
    {
     "ename": "TypeError",
     "evalue": "'tuple' object does not support item assignment",
     "output_type": "error",
     "traceback": [
      "\u001b[1;31m---------------------------------------------------------------------------\u001b[0m",
      "\u001b[1;31mTypeError\u001b[0m                                 Traceback (most recent call last)",
      "Cell \u001b[1;32mIn[30], line 1\u001b[0m\n\u001b[1;32m----> 1\u001b[0m tuple1[\u001b[38;5;241m1\u001b[39m] \u001b[38;5;241m=\u001b[39m \u001b[38;5;124m\"\u001b[39m\u001b[38;5;124mAkanksha\u001b[39m\u001b[38;5;124m\"\u001b[39m\n\u001b[0;32m      2\u001b[0m tuple1\n",
      "\u001b[1;31mTypeError\u001b[0m: 'tuple' object does not support item assignment"
     ]
    }
   ],
   "source": [
    "tuple1[1] = \"Akanksha\"\n",
    "tuple1"
   ]
  },
  {
   "cell_type": "code",
   "execution_count": null,
   "id": "4751745b-fefe-4517-8e32-8b6d3c305cd6",
   "metadata": {},
   "outputs": [],
   "source": [
    "\"\"\" in tuple we cannot changed or any implement because tuple is immutable that the reason\"\"\""
   ]
  },
  {
   "cell_type": "code",
   "execution_count": 32,
   "id": "99eb6062-be61-4989-b7cf-f1406a110d4d",
   "metadata": {},
   "outputs": [
    {
     "data": {
      "text/plain": [
       "{'Apple': 1, 'Banana': 2, 'Mango': 3, 'Peru': 1}"
      ]
     },
     "execution_count": 32,
     "metadata": {},
     "output_type": "execute_result"
    }
   ],
   "source": [
    "#sets\n",
    "fruits = {\n",
    "    'Apple':1 , 'Banana':2 ,\n",
    "    \"Mango\":3, 'Peru':1\n",
    "    }\n",
    "fruits"
   ]
  },
  {
   "cell_type": "code",
   "execution_count": null,
   "id": "24811f54-5f46-49e5-b071-88593e5868de",
   "metadata": {},
   "outputs": [],
   "source": [
    "\"\"\"In Sets includes key:values in that we cannot give the duplicate key but we can create the duplicate values.\"\"\""
   ]
  },
  {
   "cell_type": "code",
   "execution_count": 34,
   "id": "7bbf21e9-1615-4854-aa55-f6a8e604d069",
   "metadata": {},
   "outputs": [
    {
     "data": {
      "text/plain": [
       "{'name': 'Akanksha', 'age': 21, 'city': 'Pune'}"
      ]
     },
     "execution_count": 34,
     "metadata": {},
     "output_type": "execute_result"
    }
   ],
   "source": [
    "# Dictonary\n",
    "\n",
    "Data = {\n",
    "    \"name\":\"Akanksha\",\n",
    "    \"age\":21,\n",
    "    \"city\":\"Pune\"\n",
    "}\n",
    "Data\n"
   ]
  },
  {
   "cell_type": "code",
   "execution_count": 36,
   "id": "25c06f81-3e12-4077-958e-daf0b2d5da87",
   "metadata": {},
   "outputs": [
    {
     "data": {
      "text/plain": [
       "{'name': 'Akanksha', 'age': 34, 'city': 'Pune'}"
      ]
     },
     "execution_count": 36,
     "metadata": {},
     "output_type": "execute_result"
    }
   ],
   "source": [
    "Data.update({'age':34})\n",
    "Data"
   ]
  },
  {
   "cell_type": "code",
   "execution_count": 41,
   "id": "b96d168a-b7e0-4cb7-b3ba-855324234489",
   "metadata": {},
   "outputs": [
    {
     "data": {
      "text/plain": [
       "{'name': 'Akanksha',\n",
       " 'age': 34,\n",
       " 'city': 'Pune',\n",
       " 'Email': 'akankshaamale@gmail.com'}"
      ]
     },
     "execution_count": 41,
     "metadata": {},
     "output_type": "execute_result"
    }
   ],
   "source": [
    "Data['Email'] = 'akankshaamale@gmail.com'\n",
    "Data"
   ]
  },
  {
   "cell_type": "code",
   "execution_count": 45,
   "id": "2c3bc70d-046f-4697-a010-909d56f4476a",
   "metadata": {},
   "outputs": [
    {
     "name": "stdin",
     "output_type": "stream",
     "text": [
      "Enter the Marks 55\n"
     ]
    },
    {
     "name": "stdout",
     "output_type": "stream",
     "text": [
      "Grade : C\n"
     ]
    }
   ],
   "source": [
    "# Conditionl statement\n",
    "\n",
    "marks = int(input(\"Enter the Marks\"))\n",
    "if marks >= 90:\n",
    "    print(\"Grade : A\")\n",
    "elif marks >= 75:\n",
    "    print(\"Grade : B\")\n",
    "elif marks >= 50:\n",
    "    print(\"Grade : C\")\n",
    "else:\n",
    "    print(\"Fail\")"
   ]
  },
  {
   "cell_type": "code",
   "execution_count": 48,
   "id": "efe0f959-beff-4e86-811a-64c4d2928369",
   "metadata": {},
   "outputs": [
    {
     "name": "stdin",
     "output_type": "stream",
     "text": [
      "Enter the number 3\n"
     ]
    },
    {
     "name": "stdout",
     "output_type": "stream",
     "text": [
      "Number is positive\n"
     ]
    }
   ],
   "source": [
    "Number = int(input(\"Enter the number\"))\n",
    "\n",
    "if Number > 0 or Number % 2 == 0:\n",
    "    print(\"Number is positive\")\n",
    "elif Number == 0:\n",
    "    print(\"zero\")\n",
    "else:\n",
    "    print(\"Number is negative\")"
   ]
  },
  {
   "cell_type": "code",
   "execution_count": 49,
   "id": "244cfaa4-2392-47d7-a4e7-222892d42dc5",
   "metadata": {},
   "outputs": [],
   "source": [
    "\"\"\" Section B \"\"\"\n",
    "\n",
    "import numpy as np"
   ]
  },
  {
   "cell_type": "code",
   "execution_count": 66,
   "id": "98274138-4cec-46ce-9bb8-77ec639e6935",
   "metadata": {},
   "outputs": [
    {
     "name": "stdout",
     "output_type": "stream",
     "text": [
      "scalar : 5\n",
      "scalar shape : () \n",
      "\n",
      "1D Array :  [1 2 3 4 5]\n",
      "1D Array shape :  (5,) \n",
      "\n",
      "2D Array :  \n",
      " [[10 30 55]\n",
      " [22 15  3]]\n",
      "2D Array shape :  (2, 3)\n"
     ]
    }
   ],
   "source": [
    "# A scalar : 0D array\n",
    "scalar = np.array(5)\n",
    "print(\"scalar :\", scalar)\n",
    "print(\"scalar shape :\", scalar.shape,\"\\n\")\n",
    "\n",
    "# 1D array\n",
    "array1 = np.array([1,2,3,4,5])\n",
    "print(\"1D Array : \", array1)\n",
    "print(\"1D Array shape : \", array1.shape, \"\\n\")\n",
    "\n",
    "#2D array\n",
    "array2 = np.array([[10,30,55],[22,15,3]])\n",
    "print(\"2D Array : \", \"\\n\",array2)\n",
    "print(\"2D Array shape : \", array2.shape)"
   ]
  },
  {
   "cell_type": "code",
   "execution_count": 71,
   "id": "0d427f8f-589b-422a-bd37-0beaa97328d6",
   "metadata": {},
   "outputs": [
    {
     "data": {
      "text/plain": [
       "array([[54, 59, 30, 72],\n",
       "       [29,  1, 19, 94],\n",
       "       [13,  5, 89,  3],\n",
       "       [ 0,  6, 51, 47]], dtype=int32)"
      ]
     },
     "execution_count": 71,
     "metadata": {},
     "output_type": "execute_result"
    }
   ],
   "source": [
    "array = np.random.randint(0,100,size=(4,4))\n",
    "array"
   ]
  },
  {
   "cell_type": "code",
   "execution_count": 76,
   "id": "325108a4-8fd1-439a-a0bd-2d05a606a589",
   "metadata": {},
   "outputs": [],
   "source": [
    "import pandas as pd"
   ]
  },
  {
   "cell_type": "code",
   "execution_count": 81,
   "id": "a6050d6b-93ae-4376-b8b5-73ea77fe2e0d",
   "metadata": {},
   "outputs": [
    {
     "data": {
      "text/plain": [
       "array([[ 2,  5,  7],\n",
       "       [ 9, 55,  3],\n",
       "       [89, 33, 11]])"
      ]
     },
     "execution_count": 81,
     "metadata": {},
     "output_type": "execute_result"
    }
   ],
   "source": [
    "data = np.array([[2,5,7],[9,55,3],[89,33,11]])\n",
    "data"
   ]
  },
  {
   "cell_type": "code",
   "execution_count": 82,
   "id": "0b56d671-dd8e-497f-aeac-d6113ed49d3e",
   "metadata": {},
   "outputs": [
    {
     "data": {
      "text/html": [
       "<div>\n",
       "<style scoped>\n",
       "    .dataframe tbody tr th:only-of-type {\n",
       "        vertical-align: middle;\n",
       "    }\n",
       "\n",
       "    .dataframe tbody tr th {\n",
       "        vertical-align: top;\n",
       "    }\n",
       "\n",
       "    .dataframe thead th {\n",
       "        text-align: right;\n",
       "    }\n",
       "</style>\n",
       "<table border=\"1\" class=\"dataframe\">\n",
       "  <thead>\n",
       "    <tr style=\"text-align: right;\">\n",
       "      <th></th>\n",
       "      <th>0</th>\n",
       "      <th>1</th>\n",
       "      <th>2</th>\n",
       "    </tr>\n",
       "  </thead>\n",
       "  <tbody>\n",
       "    <tr>\n",
       "      <th>0</th>\n",
       "      <td>2</td>\n",
       "      <td>5</td>\n",
       "      <td>7</td>\n",
       "    </tr>\n",
       "    <tr>\n",
       "      <th>1</th>\n",
       "      <td>9</td>\n",
       "      <td>55</td>\n",
       "      <td>3</td>\n",
       "    </tr>\n",
       "    <tr>\n",
       "      <th>2</th>\n",
       "      <td>89</td>\n",
       "      <td>33</td>\n",
       "      <td>11</td>\n",
       "    </tr>\n",
       "  </tbody>\n",
       "</table>\n",
       "</div>"
      ],
      "text/plain": [
       "    0   1   2\n",
       "0   2   5   7\n",
       "1   9  55   3\n",
       "2  89  33  11"
      ]
     },
     "execution_count": 82,
     "metadata": {},
     "output_type": "execute_result"
    }
   ],
   "source": [
    "df = pd.DataFrame(data)\n",
    "df"
   ]
  },
  {
   "cell_type": "code",
   "execution_count": 84,
   "id": "e03cd54a-f4a4-43ea-b8a8-cb7caaeafde7",
   "metadata": {},
   "outputs": [
    {
     "data": {
      "text/html": [
       "<div>\n",
       "<style scoped>\n",
       "    .dataframe tbody tr th:only-of-type {\n",
       "        vertical-align: middle;\n",
       "    }\n",
       "\n",
       "    .dataframe tbody tr th {\n",
       "        vertical-align: top;\n",
       "    }\n",
       "\n",
       "    .dataframe thead th {\n",
       "        text-align: right;\n",
       "    }\n",
       "</style>\n",
       "<table border=\"1\" class=\"dataframe\">\n",
       "  <thead>\n",
       "    <tr style=\"text-align: right;\">\n",
       "      <th></th>\n",
       "      <th>A</th>\n",
       "      <th>B</th>\n",
       "      <th>C</th>\n",
       "    </tr>\n",
       "  </thead>\n",
       "  <tbody>\n",
       "    <tr>\n",
       "      <th>0</th>\n",
       "      <td>2</td>\n",
       "      <td>5</td>\n",
       "      <td>7</td>\n",
       "    </tr>\n",
       "    <tr>\n",
       "      <th>1</th>\n",
       "      <td>9</td>\n",
       "      <td>55</td>\n",
       "      <td>3</td>\n",
       "    </tr>\n",
       "    <tr>\n",
       "      <th>2</th>\n",
       "      <td>89</td>\n",
       "      <td>33</td>\n",
       "      <td>11</td>\n",
       "    </tr>\n",
       "  </tbody>\n",
       "</table>\n",
       "</div>"
      ],
      "text/plain": [
       "    A   B   C\n",
       "0   2   5   7\n",
       "1   9  55   3\n",
       "2  89  33  11"
      ]
     },
     "execution_count": 84,
     "metadata": {},
     "output_type": "execute_result"
    }
   ],
   "source": [
    "df= pd.DataFrame(data,columns=['A','B','C'])\n",
    "df"
   ]
  },
  {
   "cell_type": "code",
   "execution_count": 1,
   "id": "fcdabe2d-0f53-4ec7-8ba9-18f9830081fd",
   "metadata": {},
   "outputs": [],
   "source": [
    "# section C\n",
    "\n",
    "\n",
    "import pandas as pd\n",
    "import numpy as np"
   ]
  },
  {
   "cell_type": "code",
   "execution_count": 3,
   "id": "c6161c2b-7002-48e0-8647-2225797c3e26",
   "metadata": {},
   "outputs": [],
   "source": [
    "data = {\n",
    "    'Name' : ['Akanksha','Rutuja','Ashwini','Aditi','Ishwari','Yasha','Arpit','Avanti','Akanksha','Shravni'],\n",
    "    'Age' : [21,33,np.nan, 33,50,44,22,np.nan,21,55],\n",
    "    'City' : ['Amt','murtijapur','ch.bz','pune','Nagpur','pusad','Mumbai','Adgaon','Amt','darypur'],\n",
    "    'Salary' : [1000000,40000,20000,44000,np.nan,50000,np.nan,440300,1000000,np.nan]\n",
    "}"
   ]
  },
  {
   "cell_type": "code",
   "execution_count": 4,
   "id": "0ed577a2-e7a1-484e-aa8d-6b2e6c490f7d",
   "metadata": {},
   "outputs": [
    {
     "data": {
      "text/html": [
       "<div>\n",
       "<style scoped>\n",
       "    .dataframe tbody tr th:only-of-type {\n",
       "        vertical-align: middle;\n",
       "    }\n",
       "\n",
       "    .dataframe tbody tr th {\n",
       "        vertical-align: top;\n",
       "    }\n",
       "\n",
       "    .dataframe thead th {\n",
       "        text-align: right;\n",
       "    }\n",
       "</style>\n",
       "<table border=\"1\" class=\"dataframe\">\n",
       "  <thead>\n",
       "    <tr style=\"text-align: right;\">\n",
       "      <th></th>\n",
       "      <th>Name</th>\n",
       "      <th>Age</th>\n",
       "      <th>City</th>\n",
       "      <th>Salary</th>\n",
       "    </tr>\n",
       "  </thead>\n",
       "  <tbody>\n",
       "    <tr>\n",
       "      <th>0</th>\n",
       "      <td>Akanksha</td>\n",
       "      <td>21.0</td>\n",
       "      <td>Amt</td>\n",
       "      <td>1000000.0</td>\n",
       "    </tr>\n",
       "    <tr>\n",
       "      <th>1</th>\n",
       "      <td>Rutuja</td>\n",
       "      <td>33.0</td>\n",
       "      <td>murtijapur</td>\n",
       "      <td>40000.0</td>\n",
       "    </tr>\n",
       "    <tr>\n",
       "      <th>2</th>\n",
       "      <td>Ashwini</td>\n",
       "      <td>NaN</td>\n",
       "      <td>ch.bz</td>\n",
       "      <td>20000.0</td>\n",
       "    </tr>\n",
       "    <tr>\n",
       "      <th>3</th>\n",
       "      <td>Aditi</td>\n",
       "      <td>33.0</td>\n",
       "      <td>pune</td>\n",
       "      <td>44000.0</td>\n",
       "    </tr>\n",
       "    <tr>\n",
       "      <th>4</th>\n",
       "      <td>Ishwari</td>\n",
       "      <td>50.0</td>\n",
       "      <td>Nagpur</td>\n",
       "      <td>NaN</td>\n",
       "    </tr>\n",
       "    <tr>\n",
       "      <th>5</th>\n",
       "      <td>Yasha</td>\n",
       "      <td>44.0</td>\n",
       "      <td>pusad</td>\n",
       "      <td>50000.0</td>\n",
       "    </tr>\n",
       "    <tr>\n",
       "      <th>6</th>\n",
       "      <td>Arpit</td>\n",
       "      <td>22.0</td>\n",
       "      <td>Mumbai</td>\n",
       "      <td>NaN</td>\n",
       "    </tr>\n",
       "    <tr>\n",
       "      <th>7</th>\n",
       "      <td>Avanti</td>\n",
       "      <td>NaN</td>\n",
       "      <td>Adgaon</td>\n",
       "      <td>440300.0</td>\n",
       "    </tr>\n",
       "    <tr>\n",
       "      <th>8</th>\n",
       "      <td>Akanksha</td>\n",
       "      <td>21.0</td>\n",
       "      <td>Amt</td>\n",
       "      <td>1000000.0</td>\n",
       "    </tr>\n",
       "    <tr>\n",
       "      <th>9</th>\n",
       "      <td>Shravni</td>\n",
       "      <td>55.0</td>\n",
       "      <td>darypur</td>\n",
       "      <td>NaN</td>\n",
       "    </tr>\n",
       "  </tbody>\n",
       "</table>\n",
       "</div>"
      ],
      "text/plain": [
       "       Name   Age        City     Salary\n",
       "0  Akanksha  21.0         Amt  1000000.0\n",
       "1    Rutuja  33.0  murtijapur    40000.0\n",
       "2   Ashwini   NaN       ch.bz    20000.0\n",
       "3     Aditi  33.0        pune    44000.0\n",
       "4   Ishwari  50.0      Nagpur        NaN\n",
       "5     Yasha  44.0       pusad    50000.0\n",
       "6     Arpit  22.0      Mumbai        NaN\n",
       "7    Avanti   NaN      Adgaon   440300.0\n",
       "8  Akanksha  21.0         Amt  1000000.0\n",
       "9   Shravni  55.0     darypur        NaN"
      ]
     },
     "execution_count": 4,
     "metadata": {},
     "output_type": "execute_result"
    }
   ],
   "source": [
    "df = pd.DataFrame(data)\n",
    "df"
   ]
  },
  {
   "cell_type": "code",
   "execution_count": 5,
   "id": "0e3a77fa-f749-435b-99d6-17053e74cafb",
   "metadata": {},
   "outputs": [
    {
     "name": "stdout",
     "output_type": "stream",
     "text": [
      "<class 'pandas.core.frame.DataFrame'>\n",
      "RangeIndex: 10 entries, 0 to 9\n",
      "Data columns (total 4 columns):\n",
      " #   Column  Non-Null Count  Dtype  \n",
      "---  ------  --------------  -----  \n",
      " 0   Name    10 non-null     object \n",
      " 1   Age     8 non-null      float64\n",
      " 2   City    10 non-null     object \n",
      " 3   Salary  7 non-null      float64\n",
      "dtypes: float64(2), object(2)\n",
      "memory usage: 452.0+ bytes\n"
     ]
    }
   ],
   "source": [
    "df.info()"
   ]
  },
  {
   "cell_type": "code",
   "execution_count": 6,
   "id": "1d9f87bc-5918-41d6-b3c6-67fae694d719",
   "metadata": {},
   "outputs": [
    {
     "data": {
      "text/html": [
       "<div>\n",
       "<style scoped>\n",
       "    .dataframe tbody tr th:only-of-type {\n",
       "        vertical-align: middle;\n",
       "    }\n",
       "\n",
       "    .dataframe tbody tr th {\n",
       "        vertical-align: top;\n",
       "    }\n",
       "\n",
       "    .dataframe thead th {\n",
       "        text-align: right;\n",
       "    }\n",
       "</style>\n",
       "<table border=\"1\" class=\"dataframe\">\n",
       "  <thead>\n",
       "    <tr style=\"text-align: right;\">\n",
       "      <th></th>\n",
       "      <th>Age</th>\n",
       "      <th>Salary</th>\n",
       "    </tr>\n",
       "  </thead>\n",
       "  <tbody>\n",
       "    <tr>\n",
       "      <th>count</th>\n",
       "      <td>8.00000</td>\n",
       "      <td>7.000000</td>\n",
       "    </tr>\n",
       "    <tr>\n",
       "      <th>mean</th>\n",
       "      <td>34.87500</td>\n",
       "      <td>370614.285714</td>\n",
       "    </tr>\n",
       "    <tr>\n",
       "      <th>std</th>\n",
       "      <td>13.49537</td>\n",
       "      <td>454388.865872</td>\n",
       "    </tr>\n",
       "    <tr>\n",
       "      <th>min</th>\n",
       "      <td>21.00000</td>\n",
       "      <td>20000.000000</td>\n",
       "    </tr>\n",
       "    <tr>\n",
       "      <th>25%</th>\n",
       "      <td>21.75000</td>\n",
       "      <td>42000.000000</td>\n",
       "    </tr>\n",
       "    <tr>\n",
       "      <th>50%</th>\n",
       "      <td>33.00000</td>\n",
       "      <td>50000.000000</td>\n",
       "    </tr>\n",
       "    <tr>\n",
       "      <th>75%</th>\n",
       "      <td>45.50000</td>\n",
       "      <td>720150.000000</td>\n",
       "    </tr>\n",
       "    <tr>\n",
       "      <th>max</th>\n",
       "      <td>55.00000</td>\n",
       "      <td>1000000.000000</td>\n",
       "    </tr>\n",
       "  </tbody>\n",
       "</table>\n",
       "</div>"
      ],
      "text/plain": [
       "            Age          Salary\n",
       "count   8.00000        7.000000\n",
       "mean   34.87500   370614.285714\n",
       "std    13.49537   454388.865872\n",
       "min    21.00000    20000.000000\n",
       "25%    21.75000    42000.000000\n",
       "50%    33.00000    50000.000000\n",
       "75%    45.50000   720150.000000\n",
       "max    55.00000  1000000.000000"
      ]
     },
     "execution_count": 6,
     "metadata": {},
     "output_type": "execute_result"
    }
   ],
   "source": [
    "df.describe()"
   ]
  },
  {
   "cell_type": "code",
   "execution_count": 9,
   "id": "6e7ecf1f-4f78-48c1-8a0a-7055b7244d48",
   "metadata": {},
   "outputs": [
    {
     "name": "stdout",
     "output_type": "stream",
     "text": [
      "       Name        City\n",
      "0  Akanksha         Amt\n",
      "1    Rutuja  murtijapur\n",
      "2   Ashwini       ch.bz\n",
      "3     Aditi        pune\n",
      "4   Ishwari      Nagpur\n",
      "5     Yasha       pusad\n",
      "6     Arpit      Mumbai\n",
      "7    Avanti      Adgaon\n",
      "8  Akanksha         Amt\n",
      "9   Shravni     darypur\n"
     ]
    }
   ],
   "source": [
    "print(df[['Name','City']])"
   ]
  },
  {
   "cell_type": "code",
   "execution_count": 14,
   "id": "3c5d3249-acec-47f6-bf04-b003920fef5a",
   "metadata": {},
   "outputs": [],
   "source": [
    "df.drop(columns=['City'], inplace = True)"
   ]
  },
  {
   "cell_type": "code",
   "execution_count": 15,
   "id": "3f6e7acd-6902-490d-8c44-38abec942101",
   "metadata": {},
   "outputs": [
    {
     "data": {
      "text/html": [
       "<div>\n",
       "<style scoped>\n",
       "    .dataframe tbody tr th:only-of-type {\n",
       "        vertical-align: middle;\n",
       "    }\n",
       "\n",
       "    .dataframe tbody tr th {\n",
       "        vertical-align: top;\n",
       "    }\n",
       "\n",
       "    .dataframe thead th {\n",
       "        text-align: right;\n",
       "    }\n",
       "</style>\n",
       "<table border=\"1\" class=\"dataframe\">\n",
       "  <thead>\n",
       "    <tr style=\"text-align: right;\">\n",
       "      <th></th>\n",
       "      <th>Name</th>\n",
       "      <th>Age</th>\n",
       "      <th>Salary</th>\n",
       "    </tr>\n",
       "  </thead>\n",
       "  <tbody>\n",
       "    <tr>\n",
       "      <th>0</th>\n",
       "      <td>Akanksha</td>\n",
       "      <td>21.0</td>\n",
       "      <td>1000000.0</td>\n",
       "    </tr>\n",
       "    <tr>\n",
       "      <th>1</th>\n",
       "      <td>Rutuja</td>\n",
       "      <td>33.0</td>\n",
       "      <td>40000.0</td>\n",
       "    </tr>\n",
       "    <tr>\n",
       "      <th>2</th>\n",
       "      <td>Ashwini</td>\n",
       "      <td>NaN</td>\n",
       "      <td>20000.0</td>\n",
       "    </tr>\n",
       "    <tr>\n",
       "      <th>3</th>\n",
       "      <td>Aditi</td>\n",
       "      <td>33.0</td>\n",
       "      <td>44000.0</td>\n",
       "    </tr>\n",
       "    <tr>\n",
       "      <th>4</th>\n",
       "      <td>Ishwari</td>\n",
       "      <td>50.0</td>\n",
       "      <td>NaN</td>\n",
       "    </tr>\n",
       "    <tr>\n",
       "      <th>5</th>\n",
       "      <td>Yasha</td>\n",
       "      <td>44.0</td>\n",
       "      <td>50000.0</td>\n",
       "    </tr>\n",
       "    <tr>\n",
       "      <th>6</th>\n",
       "      <td>Arpit</td>\n",
       "      <td>22.0</td>\n",
       "      <td>NaN</td>\n",
       "    </tr>\n",
       "    <tr>\n",
       "      <th>7</th>\n",
       "      <td>Avanti</td>\n",
       "      <td>NaN</td>\n",
       "      <td>440300.0</td>\n",
       "    </tr>\n",
       "    <tr>\n",
       "      <th>8</th>\n",
       "      <td>Akanksha</td>\n",
       "      <td>21.0</td>\n",
       "      <td>1000000.0</td>\n",
       "    </tr>\n",
       "    <tr>\n",
       "      <th>9</th>\n",
       "      <td>Shravni</td>\n",
       "      <td>55.0</td>\n",
       "      <td>NaN</td>\n",
       "    </tr>\n",
       "  </tbody>\n",
       "</table>\n",
       "</div>"
      ],
      "text/plain": [
       "       Name   Age     Salary\n",
       "0  Akanksha  21.0  1000000.0\n",
       "1    Rutuja  33.0    40000.0\n",
       "2   Ashwini   NaN    20000.0\n",
       "3     Aditi  33.0    44000.0\n",
       "4   Ishwari  50.0        NaN\n",
       "5     Yasha  44.0    50000.0\n",
       "6     Arpit  22.0        NaN\n",
       "7    Avanti   NaN   440300.0\n",
       "8  Akanksha  21.0  1000000.0\n",
       "9   Shravni  55.0        NaN"
      ]
     },
     "execution_count": 15,
     "metadata": {},
     "output_type": "execute_result"
    }
   ],
   "source": [
    "df"
   ]
  },
  {
   "cell_type": "code",
   "execution_count": 24,
   "id": "29439dc7-73f5-4ef4-97f7-d50fd9452ca1",
   "metadata": {},
   "outputs": [],
   "source": [
    "salary_mean = df['Salary'].mean()"
   ]
  },
  {
   "cell_type": "code",
   "execution_count": 18,
   "id": "4d288112-31b8-4a58-b620-157e4deb2ff8",
   "metadata": {},
   "outputs": [
    {
     "data": {
      "text/plain": [
       "Salary\n",
       "1000000.0    2\n",
       "40000.0      1\n",
       "20000.0      1\n",
       "44000.0      1\n",
       "50000.0      1\n",
       "440300.0     1\n",
       "Name: count, dtype: int64"
      ]
     },
     "execution_count": 18,
     "metadata": {},
     "output_type": "execute_result"
    }
   ],
   "source": [
    "df['Salary'].value_counts()"
   ]
  },
  {
   "cell_type": "code",
   "execution_count": 25,
   "id": "c8e7d74c-7c8c-49a5-a3dd-6587dc333624",
   "metadata": {},
   "outputs": [],
   "source": [
    "df['Salary'].fillna(salary_mean, inplace=True)"
   ]
  },
  {
   "cell_type": "code",
   "execution_count": 26,
   "id": "fc0fb73e-cfb7-478c-92a4-4b4efb9311ae",
   "metadata": {},
   "outputs": [
    {
     "data": {
      "text/html": [
       "<div>\n",
       "<style scoped>\n",
       "    .dataframe tbody tr th:only-of-type {\n",
       "        vertical-align: middle;\n",
       "    }\n",
       "\n",
       "    .dataframe tbody tr th {\n",
       "        vertical-align: top;\n",
       "    }\n",
       "\n",
       "    .dataframe thead th {\n",
       "        text-align: right;\n",
       "    }\n",
       "</style>\n",
       "<table border=\"1\" class=\"dataframe\">\n",
       "  <thead>\n",
       "    <tr style=\"text-align: right;\">\n",
       "      <th></th>\n",
       "      <th>Name</th>\n",
       "      <th>Age</th>\n",
       "      <th>Salary</th>\n",
       "    </tr>\n",
       "  </thead>\n",
       "  <tbody>\n",
       "    <tr>\n",
       "      <th>0</th>\n",
       "      <td>Akanksha</td>\n",
       "      <td>21.0</td>\n",
       "      <td>1000000.000000</td>\n",
       "    </tr>\n",
       "    <tr>\n",
       "      <th>1</th>\n",
       "      <td>Rutuja</td>\n",
       "      <td>33.0</td>\n",
       "      <td>40000.000000</td>\n",
       "    </tr>\n",
       "    <tr>\n",
       "      <th>2</th>\n",
       "      <td>Ashwini</td>\n",
       "      <td>NaN</td>\n",
       "      <td>20000.000000</td>\n",
       "    </tr>\n",
       "    <tr>\n",
       "      <th>3</th>\n",
       "      <td>Aditi</td>\n",
       "      <td>33.0</td>\n",
       "      <td>44000.000000</td>\n",
       "    </tr>\n",
       "    <tr>\n",
       "      <th>4</th>\n",
       "      <td>Ishwari</td>\n",
       "      <td>50.0</td>\n",
       "      <td>370614.285714</td>\n",
       "    </tr>\n",
       "    <tr>\n",
       "      <th>5</th>\n",
       "      <td>Yasha</td>\n",
       "      <td>44.0</td>\n",
       "      <td>50000.000000</td>\n",
       "    </tr>\n",
       "    <tr>\n",
       "      <th>6</th>\n",
       "      <td>Arpit</td>\n",
       "      <td>22.0</td>\n",
       "      <td>370614.285714</td>\n",
       "    </tr>\n",
       "    <tr>\n",
       "      <th>7</th>\n",
       "      <td>Avanti</td>\n",
       "      <td>NaN</td>\n",
       "      <td>440300.000000</td>\n",
       "    </tr>\n",
       "    <tr>\n",
       "      <th>8</th>\n",
       "      <td>Akanksha</td>\n",
       "      <td>21.0</td>\n",
       "      <td>1000000.000000</td>\n",
       "    </tr>\n",
       "    <tr>\n",
       "      <th>9</th>\n",
       "      <td>Shravni</td>\n",
       "      <td>55.0</td>\n",
       "      <td>370614.285714</td>\n",
       "    </tr>\n",
       "  </tbody>\n",
       "</table>\n",
       "</div>"
      ],
      "text/plain": [
       "       Name   Age          Salary\n",
       "0  Akanksha  21.0  1000000.000000\n",
       "1    Rutuja  33.0    40000.000000\n",
       "2   Ashwini   NaN    20000.000000\n",
       "3     Aditi  33.0    44000.000000\n",
       "4   Ishwari  50.0   370614.285714\n",
       "5     Yasha  44.0    50000.000000\n",
       "6     Arpit  22.0   370614.285714\n",
       "7    Avanti   NaN   440300.000000\n",
       "8  Akanksha  21.0  1000000.000000\n",
       "9   Shravni  55.0   370614.285714"
      ]
     },
     "execution_count": 26,
     "metadata": {},
     "output_type": "execute_result"
    }
   ],
   "source": [
    "df"
   ]
  },
  {
   "cell_type": "code",
   "execution_count": 28,
   "id": "dc627255-6999-4274-b571-c50d4a7618c6",
   "metadata": {},
   "outputs": [
    {
     "data": {
      "text/plain": [
       "Name      0\n",
       "Age       2\n",
       "Salary    0\n",
       "dtype: int64"
      ]
     },
     "execution_count": 28,
     "metadata": {},
     "output_type": "execute_result"
    }
   ],
   "source": [
    "df.isna().sum()"
   ]
  },
  {
   "cell_type": "code",
   "execution_count": 31,
   "id": "8dfcc376-05c7-4a29-89ab-1b5121d3a57b",
   "metadata": {},
   "outputs": [
    {
     "data": {
      "text/plain": [
       "(10, 3)"
      ]
     },
     "execution_count": 31,
     "metadata": {},
     "output_type": "execute_result"
    }
   ],
   "source": [
    "df.shape"
   ]
  },
  {
   "cell_type": "code",
   "execution_count": 32,
   "id": "16b9b7de-38f8-4fdf-8a67-25e9565c7699",
   "metadata": {},
   "outputs": [],
   "source": [
    "df.drop_duplicates(inplace = True)"
   ]
  },
  {
   "cell_type": "code",
   "execution_count": 33,
   "id": "3fc32d07-3295-4dd6-9de9-8685c07d2643",
   "metadata": {},
   "outputs": [
    {
     "data": {
      "text/html": [
       "<div>\n",
       "<style scoped>\n",
       "    .dataframe tbody tr th:only-of-type {\n",
       "        vertical-align: middle;\n",
       "    }\n",
       "\n",
       "    .dataframe tbody tr th {\n",
       "        vertical-align: top;\n",
       "    }\n",
       "\n",
       "    .dataframe thead th {\n",
       "        text-align: right;\n",
       "    }\n",
       "</style>\n",
       "<table border=\"1\" class=\"dataframe\">\n",
       "  <thead>\n",
       "    <tr style=\"text-align: right;\">\n",
       "      <th></th>\n",
       "      <th>Name</th>\n",
       "      <th>Age</th>\n",
       "      <th>Salary</th>\n",
       "    </tr>\n",
       "  </thead>\n",
       "  <tbody>\n",
       "    <tr>\n",
       "      <th>0</th>\n",
       "      <td>Akanksha</td>\n",
       "      <td>21.0</td>\n",
       "      <td>1000000.000000</td>\n",
       "    </tr>\n",
       "    <tr>\n",
       "      <th>1</th>\n",
       "      <td>Rutuja</td>\n",
       "      <td>33.0</td>\n",
       "      <td>40000.000000</td>\n",
       "    </tr>\n",
       "    <tr>\n",
       "      <th>2</th>\n",
       "      <td>Ashwini</td>\n",
       "      <td>NaN</td>\n",
       "      <td>20000.000000</td>\n",
       "    </tr>\n",
       "    <tr>\n",
       "      <th>3</th>\n",
       "      <td>Aditi</td>\n",
       "      <td>33.0</td>\n",
       "      <td>44000.000000</td>\n",
       "    </tr>\n",
       "    <tr>\n",
       "      <th>4</th>\n",
       "      <td>Ishwari</td>\n",
       "      <td>50.0</td>\n",
       "      <td>370614.285714</td>\n",
       "    </tr>\n",
       "    <tr>\n",
       "      <th>5</th>\n",
       "      <td>Yasha</td>\n",
       "      <td>44.0</td>\n",
       "      <td>50000.000000</td>\n",
       "    </tr>\n",
       "    <tr>\n",
       "      <th>6</th>\n",
       "      <td>Arpit</td>\n",
       "      <td>22.0</td>\n",
       "      <td>370614.285714</td>\n",
       "    </tr>\n",
       "    <tr>\n",
       "      <th>7</th>\n",
       "      <td>Avanti</td>\n",
       "      <td>NaN</td>\n",
       "      <td>440300.000000</td>\n",
       "    </tr>\n",
       "    <tr>\n",
       "      <th>9</th>\n",
       "      <td>Shravni</td>\n",
       "      <td>55.0</td>\n",
       "      <td>370614.285714</td>\n",
       "    </tr>\n",
       "  </tbody>\n",
       "</table>\n",
       "</div>"
      ],
      "text/plain": [
       "       Name   Age          Salary\n",
       "0  Akanksha  21.0  1000000.000000\n",
       "1    Rutuja  33.0    40000.000000\n",
       "2   Ashwini   NaN    20000.000000\n",
       "3     Aditi  33.0    44000.000000\n",
       "4   Ishwari  50.0   370614.285714\n",
       "5     Yasha  44.0    50000.000000\n",
       "6     Arpit  22.0   370614.285714\n",
       "7    Avanti   NaN   440300.000000\n",
       "9   Shravni  55.0   370614.285714"
      ]
     },
     "execution_count": 33,
     "metadata": {},
     "output_type": "execute_result"
    }
   ],
   "source": [
    "df"
   ]
  },
  {
   "cell_type": "code",
   "execution_count": 34,
   "id": "2046351b-15fc-48d1-956c-48c39b65de48",
   "metadata": {},
   "outputs": [
    {
     "data": {
      "text/plain": [
       "(9, 3)"
      ]
     },
     "execution_count": 34,
     "metadata": {},
     "output_type": "execute_result"
    }
   ],
   "source": [
    "df.shape"
   ]
  }
 ],
 "metadata": {
  "kernelspec": {
   "display_name": "Python 3 (ipykernel)",
   "language": "python",
   "name": "python3"
  },
  "language_info": {
   "codemirror_mode": {
    "name": "ipython",
    "version": 3
   },
   "file_extension": ".py",
   "mimetype": "text/x-python",
   "name": "python",
   "nbconvert_exporter": "python",
   "pygments_lexer": "ipython3",
   "version": "3.13.5"
  },
  "widgets": {
   "application/vnd.jupyter.widget-state+json": {
    "state": {},
    "version_major": 2,
    "version_minor": 0
   }
  }
 },
 "nbformat": 4,
 "nbformat_minor": 5
}
